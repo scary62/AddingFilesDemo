{
  "nbformat": 4,
  "nbformat_minor": 0,
  "metadata": {
    "colab": {
      "provenance": [],
      "include_colab_link": true
    },
    "kernelspec": {
      "name": "python3",
      "display_name": "Python 3"
    },
    "language_info": {
      "name": "python"
    }
  },
  "cells": [
    {
      "cell_type": "markdown",
      "metadata": {
        "id": "view-in-github",
        "colab_type": "text"
      },
      "source": [
        "<a href=\"https://colab.research.google.com/github/seancary62/AddingFilesDemo/blob/main/Copy_of_Starter_File_Basics_of_Retrieval_Systems.ipynb\" target=\"_parent\"><img src=\"https://colab.research.google.com/assets/colab-badge.svg\" alt=\"Open In Colab\"/></a>"
      ]
    },
    {
      "cell_type": "markdown",
      "source": [
        "# Libraries and Data"
      ],
      "metadata": {
        "id": "vj4TmlLuXV54"
      }
    },
    {
      "cell_type": "code",
      "source": [
        "# Sample documents about sailing in Croatia\n",
        "documents = ['Sailing in Croatia often includes visiting UNESCO World Heritage sites.',\n",
        " 'The Makarska Riviera is known for its stunning coastline and sailing opportunities.',\n",
        " 'Sailing in Croatia offers stunning views of the Adriatic Sea.',\n",
        " \"The city of Sibenik is home to the impressive St. James's Cathedral, a UNESCO World Heritage site.\",\n",
        " 'The island of Brač is known for its beautiful beaches and great sailing conditions.',\n",
        " 'Sailing to the island of Rab, known for its medieval old town, is a great experience.',\n",
        " 'The Pakleni Islands near Hvar are a popular spot for sailing yachts.',\n",
        " 'The island of Cres is one of the largest in Croatia and a great destination for sailing.',\n",
        " 'The island of Cres is one of the largest in Croatia and has a diverse wildlife.',\n",
        " 'The city of Zagreb is the capital of Croatia and offers a mix of modern and historic attractions.',\n",
        " 'Sailors can experience the traditional Dalmatian way of life in many coastal villages.',\n",
        " 'The city of Knin is known for its historic fortress and beautiful scenery.',\n",
        " 'The island of Krk is the largest island in the Adriatic Sea.',\n",
        " 'Croatia has a rich history dating back to the Roman Empire.',\n",
        " 'The island of Hvar is a popular destination for celebrities and high-end travelers.',\n",
        " 'The city of Varazdin is known for its baroque buildings and vibrant cultural scene.',\n",
        " 'Sailors can enjoy fresh seafood at many coastal restaurants in Croatia.',\n",
        " 'The coastal town of Senj is known for its carnival and Nehaj Fortress.',\n",
        " 'The Dalmatian Coast is a famous region for sailing in Croatia.',\n",
        " \"The Diocletian's Palace in Split is one of the most famous Roman ruins in Croatia.\",\n",
        " 'The island of Dugi Otok is known for its dramatic cliffs and beautiful sailing waters.',\n",
        " 'The island of Rab is famous for its medieval old town and stunning beaches.',\n",
        " 'The island of Mljet is home to a national park and is ideal for nature lovers.',\n",
        " 'Sailors in Croatia can visit ancient Roman ruins in Split.',\n",
        " 'The city of Kotor, just across the border in Montenegro, is a popular extension for Croatian sailing trips.',\n",
        " 'The island of Korcula is believed to be the birthplace of Marco Polo.',\n",
        " 'The town of Motovun in Istria is famous for its film festival.',\n",
        " 'The city of Nin is known for its ancient salt pans and historic church.',\n",
        " 'The city of Vukovar is known for its role in the Croatian War of Independence.',\n",
        " 'Sailing to the island of Lošinj, known for its health tourism, is a relaxing experience.',\n",
        " 'The island of Hvar is known for its vibrant nightlife and sailing opportunities.',\n",
        " 'The island of Korčula is believed to be the birthplace of Marco Polo and is a popular sailing destination.',\n",
        " 'Sailing in Croatia often involves stopping at picturesque fishing villages.',\n",
        " 'The city of Opatija is known for its grand villas and seaside promenade.',\n",
        " 'The city of Porec is known for the Euphrasian Basilica, a UNESCO World Heritage site.',\n",
        " 'The island of Brac is home to the famous Zlatni Rat beach, known for its changing shape.',\n",
        " 'Sailing around the island of Mljet offers a peaceful and scenic experience.',\n",
        " 'The Blue Cave on Biševo Island is a must-see for sailors.',\n",
        " 'The island of Pag is famous for its cheese and nightlife, and is a fun stop for sailors.',\n",
        " \"The island of Lastovo is one of Croatia's most remote and tranquil destinations.\",\n",
        " 'Sailors can enjoy snorkeling in the clear waters of the Adriatic Sea.',\n",
        " 'The city of Rovinj is a charming starting point for a sailing trip in Croatia.',\n",
        " \"Croatia's national parks, like Krka and Plitvice, are ideal for hiking and nature lovers.\",\n",
        " 'The city of Zadar is famous for its sunsets, which sailors can enjoy from the sea.',\n",
        " 'Croatia has over a thousand islands, each with its unique charm.',\n",
        " \"Croatia's Adriatic coast is dotted with charming fishing villages.\",\n",
        " 'Sailing to the island of Šolta offers a quiet escape from the more touristy areas.',\n",
        " 'Sailors in Croatia can explore over 1,200 islands.',\n",
        " 'Sailing in Croatia provides opportunities to visit ancient fortresses and castles along the coast.',\n",
        " 'Croatia is famous for its beautiful coastline and crystal-clear waters.',\n",
        " 'The island of Krk is accessible by bridge and is a popular starting point for sailing trips.',\n",
        " 'Sailing in Croatia is best enjoyed during the summer months.',\n",
        " 'The island of Pag is famous for its cheese, which is considered a delicacy.',\n",
        " 'The medieval town of Rovinj is one of the most picturesque places in Croatia.',\n",
        " 'The island of Losinj is famous for its health tourism and clean air.',\n",
        " 'The city of Dubrovnik, with its famous city walls, is a top destination for sailors.',\n",
        " 'Croatia has beautiful islands perfect for sailing.',\n",
        " 'Sailing in Croatia allows you to explore hidden coves and bays.',\n",
        " 'The city of Rijeka is an important cultural and economic center in Croatia.',\n",
        " 'The island of Mljet has a national park that is perfect for exploring by sailboat.',\n",
        " 'The Istrian Peninsula is famous for its truffles and gourmet food.',\n",
        " 'The town of Cavtat is a quieter alternative to nearby Dubrovnik.',\n",
        " 'The Peljesac Peninsula is known for its vineyards and wine production.',\n",
        " 'The Dubrovnik Summer Festival is a major cultural event featuring theater, music, and dance performances.',\n",
        " 'The city of Zadar is famous for its unique Sea Organ, an architectural sound art object.',\n",
        " 'The beaches in Croatia are among the best in Europe, with many receiving Blue Flag status.',\n",
        " 'Sailing around the island of Murter gives access to the Kornati Islands National Park.',\n",
        " 'The city of Trogir, with its historic architecture, is a great place to dock.',\n",
        " 'Sailing from Split to Dubrovnik offers breathtaking coastal scenery.',\n",
        " 'The Plitvice Lakes National Park is a UNESCO World Heritage site known for its stunning waterfalls and lakes.',\n",
        " 'The city of Hvar is one of the sunniest places in Europe and a popular sailing hub.',\n",
        " \"The city of Dubrovnik is often called the 'Pearl of the Adriatic'.\",\n",
        " 'The city of Osijek is located in the eastern part of Croatia and is known for its Baroque style.',\n",
        " 'The city of Pula, with its Roman amphitheater, is a unique sailing destination.',\n",
        " 'The town of Trogir is a UNESCO World Heritage site known for its medieval architecture.',\n",
        " 'Sailors in Croatia can enjoy local wines at many coastal vineyards.',\n",
        " 'Croatia has a Mediterranean climate, making it a great destination year-round.',\n",
        " 'Croatia has a diverse cultural heritage, with influences from Italy, Hungary, and Austria.',\n",
        " 'The city of Rijeka is an important cultural and historical sailing destination.',\n",
        " 'The best sailing routes in Croatia include Dubrovnik and Split.',\n",
        " 'The Brijuni Islands are a national park and a former presidential retreat.',\n",
        " 'Sailing to the Elaphiti Islands offers a mix of natural beauty and cultural sites.',\n",
        " 'Croatia is known for its delicious seafood cuisine.',\n",
        " 'The ancient city of Pula is known for its well-preserved Roman amphitheater.',\n",
        " 'The city of Opatija is a historical seaside resort that welcomes sailors.',\n",
        " 'The waters around Croatia are known for being calm and clear, ideal for sailing.',\n",
        " 'The Kornati Islands National Park is a popular sailing destination in Croatia.',\n",
        " \"Sailing around the Brijuni Islands offers a glimpse of Croatia's natural beauty and wildlife.\",\n",
        " 'The island of Vis was a military base and was closed to tourism until the 1990s.',\n",
        " 'The city of Split is a major port and gateway to the Dalmatian islands.',\n",
        " 'Sailing to the island of Vis provides access to the famous Blue Cave.',\n",
        " \"The city of Buzet in Istria is known as the 'City of Truffles'.\",\n",
        " 'The city of Karlovac is known for its parks and the rivers that flow through it.',\n",
        " 'Sailing to the island of Vis allows you to experience a more remote part of Croatia.',\n",
        " 'The city of Šibenik is a UNESCO World Heritage site and a great stop for sailors.',\n",
        " \"The town of Samobor is famous for its traditional cream cake called 'kremsnita'.\",\n",
        " 'Sailing around the island of Lastovo provides a more secluded experience.',\n",
        " \"Croatia's wine regions produce some excellent wines, especially in Istria and Dalmatia.\",\n",
        " 'Many sailors start their Croatian adventure from the city of Zadar.',\n",
        " 'The coastal town of Makarska is known for its beautiful beaches and lively nightlife.']"
      ],
      "metadata": {
        "id": "TrA2UFP-XkKy"
      },
      "execution_count": 1,
      "outputs": []
    },
    {
      "cell_type": "code",
      "source": [
        "# Loading required libraries\n",
        "import nltk\n",
        "from sklearn.feature_extraction.text import TfidfVectorizer\n",
        "import numpy as np\n"
      ],
      "metadata": {
        "id": "p6sTQvHSzvoJ"
      },
      "execution_count": 13,
      "outputs": []
    },
    {
      "cell_type": "code",
      "source": [
        "# Download the punkt package from nltk\n",
        "nltk.download(\"punkt\")\n",
        "nltk.download('punkt_tab')\n",
        "nltk.download('stopwords')\n",
        "\n"
      ],
      "metadata": {
        "colab": {
          "base_uri": "https://localhost:8080/"
        },
        "id": "3-fI5Yxbz43t",
        "outputId": "56e01619-615b-44d1-f5b0-9985a9da5637"
      },
      "execution_count": 29,
      "outputs": [
        {
          "output_type": "stream",
          "name": "stderr",
          "text": [
            "[nltk_data] Downloading package punkt to /root/nltk_data...\n",
            "[nltk_data]   Package punkt is already up-to-date!\n",
            "[nltk_data] Downloading package punkt_tab to /root/nltk_data...\n",
            "[nltk_data]   Package punkt_tab is already up-to-date!\n",
            "[nltk_data] Downloading package stopwords to /root/nltk_data...\n",
            "[nltk_data]   Unzipping corpora/stopwords.zip.\n"
          ]
        },
        {
          "output_type": "execute_result",
          "data": {
            "text/plain": [
              "True"
            ]
          },
          "metadata": {},
          "execution_count": 29
        }
      ]
    },
    {
      "cell_type": "markdown",
      "source": [
        "# Tokenization"
      ],
      "metadata": {
        "id": "dXnKNjnt1hpV"
      }
    },
    {
      "cell_type": "code",
      "source": [
        "# Sample text\n",
        "text =  'The Plitvice Lakes National Park is a UNESCO World Heritage site known for its stunning waterfalls and lakes. The city of Šibenik is a UNESCO World Heritage site and a great stop for sailors.'\n"
      ],
      "metadata": {
        "id": "HvuuA0TS0Iqz"
      },
      "execution_count": 22,
      "outputs": []
    },
    {
      "cell_type": "code",
      "source": [
        "# Tokenize into a sentence\n",
        "sentences = nltk.sent_tokenize(text)\n",
        "print(f'The tokenized sentences are: {sentences}')"
      ],
      "metadata": {
        "colab": {
          "base_uri": "https://localhost:8080/"
        },
        "id": "H4WoNPY813Sg",
        "outputId": "4c8ac25e-52b3-40d3-e1bc-f25ffb52c21b"
      },
      "execution_count": 30,
      "outputs": [
        {
          "output_type": "stream",
          "name": "stdout",
          "text": [
            "The tokenized sentences are: ['The Plitvice Lakes National Park is a UNESCO World Heritage site known for its stunning waterfalls and lakes.', 'The city of Šibenik is a UNESCO World Heritage site and a great stop for sailors.']\n"
          ]
        }
      ]
    },
    {
      "cell_type": "code",
      "source": [
        "# Tokenize into words\n",
        "words = nltk.word_tokenize(text)\n",
        "print(f'The tokenized words are: {words}')"
      ],
      "metadata": {
        "colab": {
          "base_uri": "https://localhost:8080/"
        },
        "id": "8EsgMT2o2CiJ",
        "outputId": "1f90c88f-b4d1-4d79-eb9d-547892bed82c"
      },
      "execution_count": 31,
      "outputs": [
        {
          "output_type": "stream",
          "name": "stdout",
          "text": [
            "The tokenized words are: ['The', 'Plitvice', 'Lakes', 'National', 'Park', 'is', 'a', 'UNESCO', 'World', 'Heritage', 'site', 'known', 'for', 'its', 'stunning', 'waterfalls', 'and', 'lakes', '.', 'The', 'city', 'of', 'Šibenik', 'is', 'a', 'UNESCO', 'World', 'Heritage', 'site', 'and', 'a', 'great', 'stop', 'for', 'sailors', '.']\n"
          ]
        }
      ]
    },
    {
      "cell_type": "markdown",
      "source": [
        "# Data Processing"
      ],
      "metadata": {
        "id": "n7g6Pa5W7pmQ"
      }
    },
    {
      "cell_type": "code",
      "source": [
        "# Preview the stop words\n",
        "print(f\"The stop words are: {nltk.corpus.stopwords.words('english')}\")"
      ],
      "metadata": {
        "colab": {
          "base_uri": "https://localhost:8080/"
        },
        "id": "k1hTfTTW8XQp",
        "outputId": "9707d623-e27b-4b4f-d12b-0ca2fcfb54d7"
      },
      "execution_count": 32,
      "outputs": [
        {
          "output_type": "stream",
          "name": "stdout",
          "text": [
            "The stop words are: ['i', 'me', 'my', 'myself', 'we', 'our', 'ours', 'ourselves', 'you', \"you're\", \"you've\", \"you'll\", \"you'd\", 'your', 'yours', 'yourself', 'yourselves', 'he', 'him', 'his', 'himself', 'she', \"she's\", 'her', 'hers', 'herself', 'it', \"it's\", 'its', 'itself', 'they', 'them', 'their', 'theirs', 'themselves', 'what', 'which', 'who', 'whom', 'this', 'that', \"that'll\", 'these', 'those', 'am', 'is', 'are', 'was', 'were', 'be', 'been', 'being', 'have', 'has', 'had', 'having', 'do', 'does', 'did', 'doing', 'a', 'an', 'the', 'and', 'but', 'if', 'or', 'because', 'as', 'until', 'while', 'of', 'at', 'by', 'for', 'with', 'about', 'against', 'between', 'into', 'through', 'during', 'before', 'after', 'above', 'below', 'to', 'from', 'up', 'down', 'in', 'out', 'on', 'off', 'over', 'under', 'again', 'further', 'then', 'once', 'here', 'there', 'when', 'where', 'why', 'how', 'all', 'any', 'both', 'each', 'few', 'more', 'most', 'other', 'some', 'such', 'no', 'nor', 'not', 'only', 'own', 'same', 'so', 'than', 'too', 'very', 's', 't', 'can', 'will', 'just', 'don', \"don't\", 'should', \"should've\", 'now', 'd', 'll', 'm', 'o', 're', 've', 'y', 'ain', 'aren', \"aren't\", 'couldn', \"couldn't\", 'didn', \"didn't\", 'doesn', \"doesn't\", 'hadn', \"hadn't\", 'hasn', \"hasn't\", 'haven', \"haven't\", 'isn', \"isn't\", 'ma', 'mightn', \"mightn't\", 'mustn', \"mustn't\", 'needn', \"needn't\", 'shan', \"shan't\", 'shouldn', \"shouldn't\", 'wasn', \"wasn't\", 'weren', \"weren't\", 'won', \"won't\", 'wouldn', \"wouldn't\"]\n"
          ]
        }
      ]
    },
    {
      "cell_type": "code",
      "source": [
        "# Process the text: tokenization, only alphanumeric, lower case, no stopwords\n",
        "def process_text(text):\n",
        "  processed_text = text.lower()\n",
        "  processed_text = nltk.word_tokenize(text)\n",
        "  processed_text = [word for word in processed_text if word.isalnum()]\n",
        "  processed_text = [word for word in processed_text if word not in nltk.corpus.stopwords.words('english')]\n",
        "  return processed_text"
      ],
      "metadata": {
        "id": "fG_-QyRx3UDn"
      },
      "execution_count": 35,
      "outputs": []
    },
    {
      "cell_type": "code",
      "source": [
        "# Apply the function\n",
        "processed_docs = [' '.join(process_text(doc)) for doc in documents]\n",
        "processed_docs"
      ],
      "metadata": {
        "colab": {
          "base_uri": "https://localhost:8080/"
        },
        "id": "sfveP4tm72MZ",
        "outputId": "07d67c39-a9bc-4a89-aba3-b8001ce7ab58"
      },
      "execution_count": 37,
      "outputs": [
        {
          "output_type": "execute_result",
          "data": {
            "text/plain": [
              "['Sailing Croatia often includes visiting UNESCO World Heritage sites',\n",
              " 'The Makarska Riviera known stunning coastline sailing opportunities',\n",
              " 'Sailing Croatia offers stunning views Adriatic Sea',\n",
              " 'The city Sibenik home impressive James Cathedral UNESCO World Heritage site',\n",
              " 'The island Brač known beautiful beaches great sailing conditions',\n",
              " 'Sailing island Rab known medieval old town great experience',\n",
              " 'The Pakleni Islands near Hvar popular spot sailing yachts',\n",
              " 'The island Cres one largest Croatia great destination sailing',\n",
              " 'The island Cres one largest Croatia diverse wildlife',\n",
              " 'The city Zagreb capital Croatia offers mix modern historic attractions',\n",
              " 'Sailors experience traditional Dalmatian way life many coastal villages',\n",
              " 'The city Knin known historic fortress beautiful scenery',\n",
              " 'The island Krk largest island Adriatic Sea',\n",
              " 'Croatia rich history dating back Roman Empire',\n",
              " 'The island Hvar popular destination celebrities travelers',\n",
              " 'The city Varazdin known baroque buildings vibrant cultural scene',\n",
              " 'Sailors enjoy fresh seafood many coastal restaurants Croatia',\n",
              " 'The coastal town Senj known carnival Nehaj Fortress',\n",
              " 'The Dalmatian Coast famous region sailing Croatia',\n",
              " 'The Diocletian Palace Split one famous Roman ruins Croatia',\n",
              " 'The island Dugi Otok known dramatic cliffs beautiful sailing waters',\n",
              " 'The island Rab famous medieval old town stunning beaches',\n",
              " 'The island Mljet home national park ideal nature lovers',\n",
              " 'Sailors Croatia visit ancient Roman ruins Split',\n",
              " 'The city Kotor across border Montenegro popular extension Croatian sailing trips',\n",
              " 'The island Korcula believed birthplace Marco Polo',\n",
              " 'The town Motovun Istria famous film festival',\n",
              " 'The city Nin known ancient salt pans historic church',\n",
              " 'The city Vukovar known role Croatian War Independence',\n",
              " 'Sailing island Lošinj known health tourism relaxing experience',\n",
              " 'The island Hvar known vibrant nightlife sailing opportunities',\n",
              " 'The island Korčula believed birthplace Marco Polo popular sailing destination',\n",
              " 'Sailing Croatia often involves stopping picturesque fishing villages',\n",
              " 'The city Opatija known grand villas seaside promenade',\n",
              " 'The city Porec known Euphrasian Basilica UNESCO World Heritage site',\n",
              " 'The island Brac home famous Zlatni Rat beach known changing shape',\n",
              " 'Sailing around island Mljet offers peaceful scenic experience',\n",
              " 'The Blue Cave Biševo Island sailors',\n",
              " 'The island Pag famous cheese nightlife fun stop sailors',\n",
              " 'The island Lastovo one Croatia remote tranquil destinations',\n",
              " 'Sailors enjoy snorkeling clear waters Adriatic Sea',\n",
              " 'The city Rovinj charming starting point sailing trip Croatia',\n",
              " 'Croatia national parks like Krka Plitvice ideal hiking nature lovers',\n",
              " 'The city Zadar famous sunsets sailors enjoy sea',\n",
              " 'Croatia thousand islands unique charm',\n",
              " 'Croatia Adriatic coast dotted charming fishing villages',\n",
              " 'Sailing island Šolta offers quiet escape touristy areas',\n",
              " 'Sailors Croatia explore islands',\n",
              " 'Sailing Croatia provides opportunities visit ancient fortresses castles along coast',\n",
              " 'Croatia famous beautiful coastline waters',\n",
              " 'The island Krk accessible bridge popular starting point sailing trips',\n",
              " 'Sailing Croatia best enjoyed summer months',\n",
              " 'The island Pag famous cheese considered delicacy',\n",
              " 'The medieval town Rovinj one picturesque places Croatia',\n",
              " 'The island Losinj famous health tourism clean air',\n",
              " 'The city Dubrovnik famous city walls top destination sailors',\n",
              " 'Croatia beautiful islands perfect sailing',\n",
              " 'Sailing Croatia allows explore hidden coves bays',\n",
              " 'The city Rijeka important cultural economic center Croatia',\n",
              " 'The island Mljet national park perfect exploring sailboat',\n",
              " 'The Istrian Peninsula famous truffles gourmet food',\n",
              " 'The town Cavtat quieter alternative nearby Dubrovnik',\n",
              " 'The Peljesac Peninsula known vineyards wine production',\n",
              " 'The Dubrovnik Summer Festival major cultural event featuring theater music dance performances',\n",
              " 'The city Zadar famous unique Sea Organ architectural sound art object',\n",
              " 'The beaches Croatia among best Europe many receiving Blue Flag status',\n",
              " 'Sailing around island Murter gives access Kornati Islands National Park',\n",
              " 'The city Trogir historic architecture great place dock',\n",
              " 'Sailing Split Dubrovnik offers breathtaking coastal scenery',\n",
              " 'The Plitvice Lakes National Park UNESCO World Heritage site known stunning waterfalls lakes',\n",
              " 'The city Hvar one sunniest places Europe popular sailing hub',\n",
              " 'The city Dubrovnik often called Adriatic',\n",
              " 'The city Osijek located eastern part Croatia known Baroque style',\n",
              " 'The city Pula Roman amphitheater unique sailing destination',\n",
              " 'The town Trogir UNESCO World Heritage site known medieval architecture',\n",
              " 'Sailors Croatia enjoy local wines many coastal vineyards',\n",
              " 'Croatia Mediterranean climate making great destination',\n",
              " 'Croatia diverse cultural heritage influences Italy Hungary Austria',\n",
              " 'The city Rijeka important cultural historical sailing destination',\n",
              " 'The best sailing routes Croatia include Dubrovnik Split',\n",
              " 'The Brijuni Islands national park former presidential retreat',\n",
              " 'Sailing Elaphiti Islands offers mix natural beauty cultural sites',\n",
              " 'Croatia known delicious seafood cuisine',\n",
              " 'The ancient city Pula known Roman amphitheater',\n",
              " 'The city Opatija historical seaside resort welcomes sailors',\n",
              " 'The waters around Croatia known calm clear ideal sailing',\n",
              " 'The Kornati Islands National Park popular sailing destination Croatia',\n",
              " 'Sailing around Brijuni Islands offers glimpse Croatia natural beauty wildlife',\n",
              " 'The island Vis military base closed tourism 1990s',\n",
              " 'The city Split major port gateway Dalmatian islands',\n",
              " 'Sailing island Vis provides access famous Blue Cave',\n",
              " 'The city Buzet Istria known Truffles',\n",
              " 'The city Karlovac known parks rivers flow',\n",
              " 'Sailing island Vis allows experience remote part Croatia',\n",
              " 'The city Šibenik UNESCO World Heritage site great stop sailors',\n",
              " 'The town Samobor famous traditional cream cake called',\n",
              " 'Sailing around island Lastovo provides secluded experience',\n",
              " 'Croatia wine regions produce excellent wines especially Istria Dalmatia',\n",
              " 'Many sailors start Croatian adventure city Zadar',\n",
              " 'The coastal town Makarska known beautiful beaches lively nightlife']"
            ]
          },
          "metadata": {},
          "execution_count": 37
        }
      ]
    },
    {
      "cell_type": "markdown",
      "source": [
        "# TF-IDF"
      ],
      "metadata": {
        "id": "PHlXrkpFPimX"
      }
    },
    {
      "cell_type": "code",
      "source": [
        "# Index the documents with TF-IDF\n",
        "vectorizer = TfidfVectorizer()\n",
        "tfidf_matrix = vectorizer.fit_transform(processed_docs)\n",
        "print(tfidf_matrix)"
      ],
      "metadata": {
        "colab": {
          "base_uri": "https://localhost:8080/"
        },
        "id": "ARsiNp3993tg",
        "outputId": "db19298f-15ae-4ba4-ea39-eea758f1ed7e"
      },
      "execution_count": 48,
      "outputs": [
        {
          "output_type": "stream",
          "name": "stdout",
          "text": [
            "  (0, 254)\t0.1753042989885458\n",
            "  (0, 72)\t0.17294007658679392\n",
            "  (0, 197)\t0.36489999449715954\n",
            "  (0, 141)\t0.4247107772198889\n",
            "  (0, 308)\t0.4247107772198889\n",
            "  (0, 298)\t0.3166114646738461\n",
            "  (0, 319)\t0.3166114646738461\n",
            "  (0, 127)\t0.30508921177443016\n",
            "  (0, 269)\t0.3897237121883114\n",
            "  (1, 254)\t0.1929957448005501\n",
            "  (1, 284)\t0.1339862035213917\n",
            "  (1, 172)\t0.42905404222364707\n",
            "  (1, 247)\t0.4675719491609765\n",
            "  (1, 153)\t0.22763569096028308\n",
            "  (1, 279)\t0.3805272184749244\n",
            "  (1, 66)\t0.42905404222364707\n",
            "  (1, 201)\t0.4017251523323873\n",
            "  (2, 254)\t0.2139681073216772\n",
            "  (2, 72)\t0.21108244966519601\n",
            "  (2, 279)\t0.4218781549075369\n",
            "  (2, 196)\t0.3723774122156722\n",
            "  (2, 302)\t0.5183818177031458\n",
            "  (2, 4)\t0.4026760638842799\n",
            "  (2, 261)\t0.4026760638842799\n",
            "  (3, 298)\t0.27655153129422233\n",
            "  :\t:\n",
            "  (97, 72)\t0.14782144568816513\n",
            "  (97, 147)\t0.31190020140359187\n",
            "  (97, 317)\t0.333118405471053\n",
            "  (97, 318)\t0.333118405471053\n",
            "  (97, 238)\t0.3630237844637472\n",
            "  (97, 227)\t0.3630237844637472\n",
            "  (97, 102)\t0.3630237844637472\n",
            "  (97, 98)\t0.3630237844637472\n",
            "  (97, 76)\t0.3630237844637472\n",
            "  (98, 58)\t0.21484964036333512\n",
            "  (98, 255)\t0.2800830620167444\n",
            "  (98, 174)\t0.3598239022637167\n",
            "  (98, 73)\t0.3979830077246926\n",
            "  (98, 321)\t0.3979830077246926\n",
            "  (98, 274)\t0.4632164293781018\n",
            "  (98, 5)\t0.4632164293781018\n",
            "  (99, 284)\t0.12656653569954607\n",
            "  (99, 172)\t0.4052945924649909\n",
            "  (99, 153)\t0.21503005570133682\n",
            "  (99, 27)\t0.32926124464997053\n",
            "  (99, 26)\t0.35945500742594094\n",
            "  (99, 290)\t0.2972545663172725\n",
            "  (99, 65)\t0.32926124464997053\n",
            "  (99, 193)\t0.37947907693320815\n",
            "  (99, 165)\t0.4416795180418766\n"
          ]
        }
      ]
    },
    {
      "cell_type": "code",
      "source": [
        "# Sample query\n",
        "query = \"Sailing in Croatia is fun.\""
      ],
      "metadata": {
        "id": "bSHR3qy_Pzss"
      },
      "execution_count": 40,
      "outputs": []
    },
    {
      "cell_type": "code",
      "source": [
        "# Try sample query\n",
        "query_vec = vectorizer.transform([query])\n",
        "# query_vec.T.toarray()\n",
        "results = np.dot(tfidf_matrix, query_vec.T).toarray()\n",
        "print(results)"
      ],
      "metadata": {
        "colab": {
          "base_uri": "https://localhost:8080/"
        },
        "collapsed": true,
        "id": "aBsX2Nc6QSvx",
        "outputId": "b4374d77-5eba-44d9-a033-1f676a7d0035"
      },
      "execution_count": 46,
      "outputs": [
        {
          "output_type": "stream",
          "name": "stdout",
          "text": [
            "[[0.12351864]\n",
            " [0.06891513]\n",
            " [0.15076099]\n",
            " [0.        ]\n",
            " [0.06969818]\n",
            " [0.06927436]\n",
            " [0.0608959 ]\n",
            " [0.14917792]\n",
            " [0.06936311]\n",
            " [0.05633389]\n",
            " [0.        ]\n",
            " [0.        ]\n",
            " [0.        ]\n",
            " [0.05971918]\n",
            " [0.        ]\n",
            " [0.        ]\n",
            " [0.0629337 ]\n",
            " [0.        ]\n",
            " [0.16186778]\n",
            " [0.06298754]\n",
            " [0.06059642]\n",
            " [0.        ]\n",
            " [0.        ]\n",
            " [0.07097358]\n",
            " [0.05359136]\n",
            " [0.        ]\n",
            " [0.        ]\n",
            " [0.        ]\n",
            " [0.        ]\n",
            " [0.06761335]\n",
            " [0.07684465]\n",
            " [0.06105602]\n",
            " [0.12404875]\n",
            " [0.        ]\n",
            " [0.        ]\n",
            " [0.        ]\n",
            " [0.06732788]\n",
            " [0.        ]\n",
            " [0.3774152 ]\n",
            " [0.06619043]\n",
            " [0.        ]\n",
            " [0.13004309]\n",
            " [0.05139914]\n",
            " [0.        ]\n",
            " [0.07859039]\n",
            " [0.06460484]\n",
            " [0.06070517]\n",
            " [0.1068939 ]\n",
            " [0.10949353]\n",
            " [0.08966042]\n",
            " [0.05851184]\n",
            " [0.14695908]\n",
            " [0.        ]\n",
            " [0.0680355 ]\n",
            " [0.        ]\n",
            " [0.        ]\n",
            " [0.19783005]\n",
            " [0.12980071]\n",
            " [0.06614423]\n",
            " [0.        ]\n",
            " [0.        ]\n",
            " [0.        ]\n",
            " [0.        ]\n",
            " [0.        ]\n",
            " [0.        ]\n",
            " [0.05125481]\n",
            " [0.05935878]\n",
            " [0.        ]\n",
            " [0.07155077]\n",
            " [0.        ]\n",
            " [0.06075259]\n",
            " [0.        ]\n",
            " [0.05677033]\n",
            " [0.07392163]\n",
            " [0.        ]\n",
            " [0.06391296]\n",
            " [0.06996061]\n",
            " [0.05817482]\n",
            " [0.07340483]\n",
            " [0.1399967 ]\n",
            " [0.        ]\n",
            " [0.05998432]\n",
            " [0.0796296 ]\n",
            " [0.        ]\n",
            " [0.        ]\n",
            " [0.13707937]\n",
            " [0.15003272]\n",
            " [0.1163229 ]\n",
            " [0.        ]\n",
            " [0.        ]\n",
            " [0.06863818]\n",
            " [0.        ]\n",
            " [0.        ]\n",
            " [0.13920657]\n",
            " [0.        ]\n",
            " [0.        ]\n",
            " [0.0726286 ]\n",
            " [0.05207237]\n",
            " [0.        ]\n",
            " [0.        ]]\n"
          ]
        }
      ]
    },
    {
      "cell_type": "code",
      "source": [
        "# build function to search documents with TF-IDF:\n",
        "def search(query, vectorizer, tfidf_matrix):\n",
        "  query_vec = vectorizer.transform([query])\n",
        "  results = np.dot(tfidf_matrix, query_vec.T).toarray()\n",
        "  return results"
      ],
      "metadata": {
        "id": "fOlu80maQ8kP"
      },
      "execution_count": 49,
      "outputs": []
    },
    {
      "cell_type": "code",
      "source": [
        "# Sort and display the function\n",
        "results = search(query, vectorizer, tfidf_matrix)\n",
        "sorted_results = sorted(enumerate(results), key = lambda x: x[1][0], reverse = True)\n",
        "# Iterate over the sorted results to display the outcome\n",
        "for idx, score in sorted_results:\n",
        "  print(f'Score: {score[0]} Document: {documents[idx]}') # Using idx (integer) to access the docs"
      ],
      "metadata": {
        "colab": {
          "base_uri": "https://localhost:8080/"
        },
        "id": "fQwR7QzeTys3",
        "outputId": "1c58bec4-f857-4673-dd67-4c91df39961a"
      },
      "execution_count": 52,
      "outputs": [
        {
          "output_type": "stream",
          "name": "stdout",
          "text": [
            "Score: 0.37741520186717364 Document: The island of Pag is famous for its cheese and nightlife, and is a fun stop for sailors.\n",
            "Score: 0.1978300452702373 Document: Croatia has beautiful islands perfect for sailing.\n",
            "Score: 0.16186778067428714 Document: The Dalmatian Coast is a famous region for sailing in Croatia.\n",
            "Score: 0.15076098993725762 Document: Sailing in Croatia offers stunning views of the Adriatic Sea.\n",
            "Score: 0.15003271969018608 Document: The Kornati Islands National Park is a popular sailing destination in Croatia.\n",
            "Score: 0.14917792395894536 Document: The island of Cres is one of the largest in Croatia and a great destination for sailing.\n",
            "Score: 0.14695907785419016 Document: Sailing in Croatia is best enjoyed during the summer months.\n",
            "Score: 0.13999670447610046 Document: The best sailing routes in Croatia include Dubrovnik and Split.\n",
            "Score: 0.13920656570202813 Document: Sailing to the island of Vis allows you to experience a more remote part of Croatia.\n",
            "Score: 0.13707937431761502 Document: The waters around Croatia are known for being calm and clear, ideal for sailing.\n",
            "Score: 0.13004308966004235 Document: The city of Rovinj is a charming starting point for a sailing trip in Croatia.\n",
            "Score: 0.12980070914544678 Document: Sailing in Croatia allows you to explore hidden coves and bays.\n",
            "Score: 0.12404874699343899 Document: Sailing in Croatia often involves stopping at picturesque fishing villages.\n",
            "Score: 0.12351864016835476 Document: Sailing in Croatia often includes visiting UNESCO World Heritage sites.\n",
            "Score: 0.11632289716006136 Document: Sailing around the Brijuni Islands offers a glimpse of Croatia's natural beauty and wildlife.\n",
            "Score: 0.10949352857379674 Document: Sailing in Croatia provides opportunities to visit ancient fortresses and castles along the coast.\n",
            "Score: 0.10689390489589794 Document: Sailors in Croatia can explore over 1,200 islands.\n",
            "Score: 0.08966041935080402 Document: Croatia is famous for its beautiful coastline and crystal-clear waters.\n",
            "Score: 0.0796296022517532 Document: Croatia is known for its delicious seafood cuisine.\n",
            "Score: 0.07859038805546913 Document: Croatia has over a thousand islands, each with its unique charm.\n",
            "Score: 0.07684465106389919 Document: The island of Hvar is known for its vibrant nightlife and sailing opportunities.\n",
            "Score: 0.07392162697254435 Document: The city of Pula, with its Roman amphitheater, is a unique sailing destination.\n",
            "Score: 0.0734048250642907 Document: The city of Rijeka is an important cultural and historical sailing destination.\n",
            "Score: 0.07262859752009666 Document: Sailing around the island of Lastovo provides a more secluded experience.\n",
            "Score: 0.0715507690862314 Document: Sailing from Split to Dubrovnik offers breathtaking coastal scenery.\n",
            "Score: 0.07097358219986785 Document: Sailors in Croatia can visit ancient Roman ruins in Split.\n",
            "Score: 0.0699606105690048 Document: Croatia has a Mediterranean climate, making it a great destination year-round.\n",
            "Score: 0.06969818209729678 Document: The island of Brač is known for its beautiful beaches and great sailing conditions.\n",
            "Score: 0.06936311336996871 Document: The island of Cres is one of the largest in Croatia and has a diverse wildlife.\n",
            "Score: 0.06927436310851678 Document: Sailing to the island of Rab, known for its medieval old town, is a great experience.\n",
            "Score: 0.06891512678687615 Document: The Makarska Riviera is known for its stunning coastline and sailing opportunities.\n",
            "Score: 0.0686381755437889 Document: Sailing to the island of Vis provides access to the famous Blue Cave.\n",
            "Score: 0.0680355044373201 Document: The medieval town of Rovinj is one of the most picturesque places in Croatia.\n",
            "Score: 0.06761335359164432 Document: Sailing to the island of Lošinj, known for its health tourism, is a relaxing experience.\n",
            "Score: 0.06732788209024874 Document: Sailing around the island of Mljet offers a peaceful and scenic experience.\n",
            "Score: 0.0661904271903056 Document: The island of Lastovo is one of Croatia's most remote and tranquil destinations.\n",
            "Score: 0.06614422670665264 Document: The city of Rijeka is an important cultural and economic center in Croatia.\n",
            "Score: 0.06460483804364094 Document: Croatia's Adriatic coast is dotted with charming fishing villages.\n",
            "Score: 0.06391295994297051 Document: Sailors in Croatia can enjoy local wines at many coastal vineyards.\n",
            "Score: 0.06298754161084531 Document: The Diocletian's Palace in Split is one of the most famous Roman ruins in Croatia.\n",
            "Score: 0.06293370015470225 Document: Sailors can enjoy fresh seafood at many coastal restaurants in Croatia.\n",
            "Score: 0.06105602250948899 Document: The island of Korčula is believed to be the birthplace of Marco Polo and is a popular sailing destination.\n",
            "Score: 0.06089590260046744 Document: The Pakleni Islands near Hvar are a popular spot for sailing yachts.\n",
            "Score: 0.06075259414266988 Document: The city of Hvar is one of the sunniest places in Europe and a popular sailing hub.\n",
            "Score: 0.060705168816866266 Document: Sailing to the island of Šolta offers a quiet escape from the more touristy areas.\n",
            "Score: 0.060596420047718966 Document: The island of Dugi Otok is known for its dramatic cliffs and beautiful sailing waters.\n",
            "Score: 0.05998431597019591 Document: Sailing to the Elaphiti Islands offers a mix of natural beauty and cultural sites.\n",
            "Score: 0.0597191789497312 Document: Croatia has a rich history dating back to the Roman Empire.\n",
            "Score: 0.059358783766231764 Document: Sailing around the island of Murter gives access to the Kornati Islands National Park.\n",
            "Score: 0.05851183728629495 Document: The island of Krk is accessible by bridge and is a popular starting point for sailing trips.\n",
            "Score: 0.05817482465638611 Document: Croatia has a diverse cultural heritage, with influences from Italy, Hungary, and Austria.\n",
            "Score: 0.056770326323689856 Document: The city of Osijek is located in the eastern part of Croatia and is known for its Baroque style.\n",
            "Score: 0.05633389193016863 Document: The city of Zagreb is the capital of Croatia and offers a mix of modern and historic attractions.\n",
            "Score: 0.05359136139818094 Document: The city of Kotor, just across the border in Montenegro, is a popular extension for Croatian sailing trips.\n",
            "Score: 0.05207237086600275 Document: Croatia's wine regions produce some excellent wines, especially in Istria and Dalmatia.\n",
            "Score: 0.051399142487176364 Document: Croatia's national parks, like Krka and Plitvice, are ideal for hiking and nature lovers.\n",
            "Score: 0.051254807591265515 Document: The beaches in Croatia are among the best in Europe, with many receiving Blue Flag status.\n",
            "Score: 0.0 Document: The city of Sibenik is home to the impressive St. James's Cathedral, a UNESCO World Heritage site.\n",
            "Score: 0.0 Document: Sailors can experience the traditional Dalmatian way of life in many coastal villages.\n",
            "Score: 0.0 Document: The city of Knin is known for its historic fortress and beautiful scenery.\n",
            "Score: 0.0 Document: The island of Krk is the largest island in the Adriatic Sea.\n",
            "Score: 0.0 Document: The island of Hvar is a popular destination for celebrities and high-end travelers.\n",
            "Score: 0.0 Document: The city of Varazdin is known for its baroque buildings and vibrant cultural scene.\n",
            "Score: 0.0 Document: The coastal town of Senj is known for its carnival and Nehaj Fortress.\n",
            "Score: 0.0 Document: The island of Rab is famous for its medieval old town and stunning beaches.\n",
            "Score: 0.0 Document: The island of Mljet is home to a national park and is ideal for nature lovers.\n",
            "Score: 0.0 Document: The island of Korcula is believed to be the birthplace of Marco Polo.\n",
            "Score: 0.0 Document: The town of Motovun in Istria is famous for its film festival.\n",
            "Score: 0.0 Document: The city of Nin is known for its ancient salt pans and historic church.\n",
            "Score: 0.0 Document: The city of Vukovar is known for its role in the Croatian War of Independence.\n",
            "Score: 0.0 Document: The city of Opatija is known for its grand villas and seaside promenade.\n",
            "Score: 0.0 Document: The city of Porec is known for the Euphrasian Basilica, a UNESCO World Heritage site.\n",
            "Score: 0.0 Document: The island of Brac is home to the famous Zlatni Rat beach, known for its changing shape.\n",
            "Score: 0.0 Document: The Blue Cave on Biševo Island is a must-see for sailors.\n",
            "Score: 0.0 Document: Sailors can enjoy snorkeling in the clear waters of the Adriatic Sea.\n",
            "Score: 0.0 Document: The city of Zadar is famous for its sunsets, which sailors can enjoy from the sea.\n",
            "Score: 0.0 Document: The island of Pag is famous for its cheese, which is considered a delicacy.\n",
            "Score: 0.0 Document: The island of Losinj is famous for its health tourism and clean air.\n",
            "Score: 0.0 Document: The city of Dubrovnik, with its famous city walls, is a top destination for sailors.\n",
            "Score: 0.0 Document: The island of Mljet has a national park that is perfect for exploring by sailboat.\n",
            "Score: 0.0 Document: The Istrian Peninsula is famous for its truffles and gourmet food.\n",
            "Score: 0.0 Document: The town of Cavtat is a quieter alternative to nearby Dubrovnik.\n",
            "Score: 0.0 Document: The Peljesac Peninsula is known for its vineyards and wine production.\n",
            "Score: 0.0 Document: The Dubrovnik Summer Festival is a major cultural event featuring theater, music, and dance performances.\n",
            "Score: 0.0 Document: The city of Zadar is famous for its unique Sea Organ, an architectural sound art object.\n",
            "Score: 0.0 Document: The city of Trogir, with its historic architecture, is a great place to dock.\n",
            "Score: 0.0 Document: The Plitvice Lakes National Park is a UNESCO World Heritage site known for its stunning waterfalls and lakes.\n",
            "Score: 0.0 Document: The city of Dubrovnik is often called the 'Pearl of the Adriatic'.\n",
            "Score: 0.0 Document: The town of Trogir is a UNESCO World Heritage site known for its medieval architecture.\n",
            "Score: 0.0 Document: The Brijuni Islands are a national park and a former presidential retreat.\n",
            "Score: 0.0 Document: The ancient city of Pula is known for its well-preserved Roman amphitheater.\n",
            "Score: 0.0 Document: The city of Opatija is a historical seaside resort that welcomes sailors.\n",
            "Score: 0.0 Document: The island of Vis was a military base and was closed to tourism until the 1990s.\n",
            "Score: 0.0 Document: The city of Split is a major port and gateway to the Dalmatian islands.\n",
            "Score: 0.0 Document: The city of Buzet in Istria is known as the 'City of Truffles'.\n",
            "Score: 0.0 Document: The city of Karlovac is known for its parks and the rivers that flow through it.\n",
            "Score: 0.0 Document: The city of Šibenik is a UNESCO World Heritage site and a great stop for sailors.\n",
            "Score: 0.0 Document: The town of Samobor is famous for its traditional cream cake called 'kremsnita'.\n",
            "Score: 0.0 Document: Many sailors start their Croatian adventure from the city of Zadar.\n",
            "Score: 0.0 Document: The coastal town of Makarska is known for its beautiful beaches and lively nightlife.\n"
          ]
        }
      ]
    },
    {
      "cell_type": "code",
      "source": [],
      "metadata": {
        "id": "TpvMjDIAUKI9"
      },
      "execution_count": null,
      "outputs": []
    }
  ]
}